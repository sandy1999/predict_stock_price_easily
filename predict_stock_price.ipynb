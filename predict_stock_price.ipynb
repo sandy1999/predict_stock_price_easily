{
 "cells": [
  {
   "cell_type": "code",
   "execution_count": 1,
   "metadata": {},
   "outputs": [
    {
     "name": "stderr",
     "output_type": "stream",
     "text": [
      "Using TensorFlow backend.\n"
     ]
    }
   ],
   "source": [
    "# core layer models \n",
    "from keras.layers.core import Dense, Dropout, Activation\n",
    "from keras.layers.recurrent import LSTM # lstm class model \n",
    "from keras.models import Sequential # load sequential model \n",
    "import lstm # helper library \n",
    "import time # helper lib for time calculation"
   ]
  },
  {
   "cell_type": "markdown",
   "metadata": {},
   "source": [
    "## Step1- Load Data set "
   ]
  },
  {
   "cell_type": "code",
   "execution_count": 2,
   "metadata": {},
   "outputs": [],
   "source": [
    "X_train, y_train, X_test, y_test = lstm.load_data(filename='sp500.csv', seq_len=50, normalise_window=True)"
   ]
  },
  {
   "cell_type": "markdown",
   "metadata": {},
   "source": [
    "## Step2- Build Model "
   ]
  },
  {
   "cell_type": "code",
   "execution_count": 3,
   "metadata": {},
   "outputs": [
    {
     "name": "stdout",
     "output_type": "stream",
     "text": [
      "Compilation Time :  0.025817394256591797\n"
     ]
    }
   ],
   "source": [
    "# making a sequential model \n",
    "model  = Sequential()\n",
    "\n",
    "# adding a lstm layer \n",
    "model.add(LSTM(input_dim = 1, output_dim = 50, return_sequences=True))\n",
    "\n",
    "# adding a drop out layer \n",
    "model.add(Dropout(0.2)) # 20% \n",
    "\n",
    "# adding a lstm layer 2 \n",
    "model.add(LSTM(100, return_sequences=False))\n",
    "\n",
    "# adding a drop out of 20% \n",
    "model.add(Dropout(0.2))\n",
    "\n",
    "# adding a dense layer \n",
    "model.add(Dense(1))\n",
    "\n",
    "# adding a activation layer \n",
    "model.add(Activation('linear'))\n",
    "\n",
    "# compile model \n",
    "start = time.time()\n",
    "model.compile(loss='mse', optimizer='rmsprop')\n",
    "print(\"Compilation Time : \",time.time() - start)"
   ]
  },
  {
   "cell_type": "markdown",
   "metadata": {},
   "source": [
    "## Train our model "
   ]
  },
  {
   "cell_type": "code",
   "execution_count": 4,
   "metadata": {},
   "outputs": [
    {
     "name": "stdout",
     "output_type": "stream",
     "text": [
      "Train on 3523 samples, validate on 186 samples\n",
      "Epoch 1/2\n",
      "3523/3523 [==============================] - 7s 2ms/step - loss: 0.0025 - val_loss: 8.3941e-04\n",
      "Epoch 2/2\n",
      "3523/3523 [==============================] - 5s 1ms/step - loss: 6.2663e-04 - val_loss: 6.7688e-04\n"
     ]
    },
    {
     "data": {
      "text/plain": [
       "<keras.callbacks.History at 0x7ffb5be148d0>"
      ]
     },
     "execution_count": 4,
     "metadata": {},
     "output_type": "execute_result"
    }
   ],
   "source": [
    "# fitting our model\n",
    "model.fit(X_train, y_train, batch_size=512, epochs=2, validation_split=0.05)"
   ]
  }
 ],
 "metadata": {
  "kernelspec": {
   "display_name": "Python 3",
   "language": "python",
   "name": "python3"
  },
  "language_info": {
   "codemirror_mode": {
    "name": "ipython",
    "version": 3
   },
   "file_extension": ".py",
   "mimetype": "text/x-python",
   "name": "python",
   "nbconvert_exporter": "python",
   "pygments_lexer": "ipython3",
   "version": "3.6.6"
  }
 },
 "nbformat": 4,
 "nbformat_minor": 2
}
